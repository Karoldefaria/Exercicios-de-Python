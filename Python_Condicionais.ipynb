{
  "nbformat": 4,
  "nbformat_minor": 0,
  "metadata": {
    "colab": {
      "provenance": []
    },
    "kernelspec": {
      "name": "python3",
      "display_name": "Python 3"
    },
    "language_info": {
      "name": "python"
    }
  },
  "cells": [
    {
      "cell_type": "code",
      "execution_count": 24,
      "metadata": {
        "colab": {
          "base_uri": "https://localhost:8080/"
        },
        "id": "TG_V_-1fVgMy",
        "outputId": "b1b766a9-58bc-4669-8c38-829709b9d23c"
      },
      "outputs": [
        {
          "output_type": "stream",
          "name": "stdout",
          "text": [
            "Vamos calcular! \n",
            "\n",
            "Digite a letra correspondente à operação matemática que deseja calcular: \n",
            "\n",
            "a - Adição \n",
            "\n",
            "b - Subtração \n",
            "\n",
            "c - Divisão \n",
            "\n",
            "d - Multiplicação \n",
            "\n",
            "\n",
            "b\n",
            "Agora que escolheu qual operação, digite o 1° valor inteiro! \n",
            "\n",
            "3\n",
            "Agora que escolheu o 1° valor, digite o 2° valor inteiro! \n",
            "\n",
            "2\n",
            "A subtração do 3.0 e 2.0 é: 1.0 \n",
            "\n"
          ]
        }
      ],
      "source": [
        "#Exercício de Python\n",
        "\n",
        "#Instruções para o Usuário\n",
        "print(\"Vamos calcular! \\n\")\n",
        "print(\"Digite a letra correspondente à operação matemática que deseja calcular: \\n\")\n",
        "print(\"a - Adição \\n\")\n",
        "print(\"b - Subtração \\n\")\n",
        "print(\"c - Divisão \\n\")\n",
        "print(\"d - Multiplicação \\n\\n\")\n",
        "\n",
        "#definindo qual opção matemática\n",
        "operacao = str(input())\n",
        "\n",
        "#Instruindo o usuário a digitar 2 números Inteiros\n",
        "print(\"Agora que escolheu qual operação, digite o 1° valor inteiro! \\n\")\n",
        "num1 = int(input())\n",
        "num1_float = float(num1)\n",
        "print(\"Agora que escolheu o 1° valor, digite o 2° valor inteiro! \\n\")\n",
        "num2 = int(input())\n",
        "num2_float = float(num2)\n",
        "\n",
        "#Condicional\n",
        "if (operacao == 'a')  or (operacao == 'A'):\n",
        "  soma = num1_float + num2_float\n",
        "  print(\"A soma do {} e {} é: {} \\n\".format(num1_float, num2_float, soma))\n",
        "\n",
        "elif (operacao == 'b') or (operacao == 'B'):\n",
        "  subtracao = num1_float - num2_float\n",
        "  print(\"A subtração do {} e {} é: {} \\n\".format(num1_float, num2_float, subtracao))\n",
        "\n",
        "if (operacao == 'c')  or (operacao == 'C'):\n",
        "  divisao = num1_float / num2_float\n",
        "  print(\"A divisão do {} e {} é: {} \\n\".format(num1_float, num2_float, divisao))\n",
        "\n",
        "elif (operacao == 'd') or (operacao == 'D'):\n",
        "  multiplicacao = num1_float * num2_float\n",
        "  print(\"A multiplicação do {} e {} é: {} \\n\".format(num1_float, num2_float, multiplicacao))\n",
        "\n",
        "\n",
        "\n",
        "\n"
      ]
    }
  ]
}
